{
 "cells": [
  {
   "cell_type": "code",
   "execution_count": 57,
   "id": "0473a930-1b16-421e-8c54-d8e7e8175a58",
   "metadata": {},
   "outputs": [
    {
     "name": "stdout",
     "output_type": "stream",
     "text": [
      "40\n"
     ]
    }
   ],
   "source": [
    "# Section A: Basic Programs\n",
    "\n",
    "# Q1. Find second largest number without sort()\n",
    "lst = [10, 20, 40, 30, 50, 40]\n",
    "largest = second = float('-inf')\n",
    "for num in lst:\n",
    "    if num > largest:\n",
    "        second = largest\n",
    "        largest = num\n",
    "    elif largest > num > second:\n",
    "        second = num\n",
    "print(second)\n"
   ]
  },
  {
   "cell_type": "code",
   "execution_count": 58,
   "id": "2e4bc0a7-5fdb-4a4a-83e5-a03b50d6ab46",
   "metadata": {},
   "outputs": [
    {
     "name": "stdout",
     "output_type": "stream",
     "text": [
      "[1, 2, 3, 4, 5]\n"
     ]
    }
   ],
   "source": [
    "# Q2. Remove duplicates and return sorted list\n",
    "lst = [4, 2, 5, 2, 3, 4, 1, 5]\n",
    "unique = []\n",
    "for num in lst:\n",
    "    if num not in unique:\n",
    "        unique.append(num)\n",
    "for i in range(len(unique)):\n",
    "    for j in range(i + 1, len(unique)):\n",
    "        if unique[i] > unique[j]:\n",
    "            unique[i], unique[j] = unique[j], unique[i]\n",
    "print(unique)"
   ]
  },
  {
   "cell_type": "code",
   "execution_count": 59,
   "id": "8c75881b-5071-477e-b7ca-9d212fe5f892",
   "metadata": {},
   "outputs": [
    {
     "name": "stdout",
     "output_type": "stream",
     "text": [
      "150\n",
      "30.0\n"
     ]
    }
   ],
   "source": [
    "#Q3Sum and average of list\n",
    "lst = [10, 20, 30, 40, 50]\n",
    "sum_val = 0\n",
    "for num in lst:\n",
    "    sum_val += num\n",
    "avg = sum_val / len(lst)\n",
    "print(sum_val)\n",
    "print(avg)"
   ]
  },
  {
   "cell_type": "code",
   "execution_count": 60,
   "id": "e62cc407-d410-460b-b7e4-c0de0ba73eaa",
   "metadata": {},
   "outputs": [
    {
     "name": "stdout",
     "output_type": "stream",
     "text": [
      "Prime\n"
     ]
    }
   ],
   "source": [
    "#Q4Prime check\n",
    "num = 29\n",
    "if num > 1:\n",
    "    for i in range(2, int(num ** 0.5) + 1):\n",
    "        if num % i == 0:\n",
    "            print(\"Not Prime\")\n",
    "            break\n",
    "    else:\n",
    "        print(\"Prime\")\n",
    "else:\n",
    "    print(\"Not Prime\")"
   ]
  },
  {
   "cell_type": "code",
   "execution_count": 61,
   "id": "0cf540d1-5b8f-4cac-bef0-13345de89d06",
   "metadata": {},
   "outputs": [
    {
     "name": "stdout",
     "output_type": "stream",
     "text": [
      "3\n",
      "7\n",
      "3\n",
      "3\n"
     ]
    }
   ],
   "source": [
    "# Q5. Count vowels, consonants, digits, special chars\n",
    "s = \"Hello World! 123\"\n",
    "vowels = consonants = digits = special = 0\n",
    "for ch in s:\n",
    "    if ch.isalpha():\n",
    "        if ch.lower() in 'aeiou':\n",
    "            vowels += 1\n",
    "        else:\n",
    "            consonants += 1\n",
    "    elif ch.isdigit():\n",
    "        digits += 1\n",
    "    else:\n",
    "        special += 1\n",
    "print(vowels)\n",
    "print(consonants)\n",
    "print(digits)\n",
    "print(special)"
   ]
  },
  {
   "cell_type": "code",
   "execution_count": 62,
   "id": "0a3c86e3-4191-4793-a998-6296dfb6bac5",
   "metadata": {},
   "outputs": [
    {
     "name": "stdout",
     "output_type": "stream",
     "text": [
      "2 4 6 8 10 12 14 16 18 20 22 24 26 28 30 32 34 36 38 40 42 44 46 48 50 52 54 56 58 60 62 64 66 68 70 72 74 76 78 80 82 84 86 88 90 92 94 96 98 100 \n"
     ]
    }
   ],
   "source": [
    "# Q6. Even numbers 1 to 100\n",
    "for i in range(1, 101):\n",
    "    if i % 2 == 0:\n",
    "        print(i, end=' ')\n",
    "print()"
   ]
  },
  {
   "cell_type": "code",
   "execution_count": 63,
   "id": "f8905ae1-6628-46e3-87a4-8909eb7d0b33",
   "metadata": {},
   "outputs": [
    {
     "name": "stdin",
     "output_type": "stream",
     "text": [
      "Enter number:  878\n"
     ]
    },
    {
     "name": "stdout",
     "output_type": "stream",
     "text": [
      "878 x 1 = 878\n",
      "878 x 2 = 1756\n",
      "878 x 3 = 2634\n",
      "878 x 4 = 3512\n",
      "878 x 5 = 4390\n",
      "878 x 6 = 5268\n",
      "878 x 7 = 6146\n",
      "878 x 8 = 7024\n",
      "878 x 9 = 7902\n",
      "878 x 10 = 8780\n"
     ]
    }
   ],
   "source": [
    "# Q7. Multiplication table\n",
    "num = int(input(\"Enter number: \"))\n",
    "for i in range(1, 11):\n",
    "    print(num, 'x', i, '=', num * i)\n"
   ]
  },
  {
   "cell_type": "code",
   "execution_count": 64,
   "id": "8694a8b9-b641-468f-8d59-08825cc28fa2",
   "metadata": {},
   "outputs": [
    {
     "name": "stdout",
     "output_type": "stream",
     "text": [
      "[15, 30, 45, 60, 75, 90]\n"
     ]
    }
   ],
   "source": [
    "# Q8. Numbers divisible by 3 and 5\n",
    "lst = []\n",
    "for i in range(1, 101):\n",
    "    if i % 3 == 0 and i % 5 == 0:\n",
    "        lst.append(i)\n",
    "print(lst)"
   ]
  },
  {
   "cell_type": "code",
   "execution_count": 65,
   "id": "22eddde9-8a14-4bb8-93f6-d95fd8901135",
   "metadata": {},
   "outputs": [
    {
     "name": "stdin",
     "output_type": "stream",
     "text": [
      "Enter number:  7867\n"
     ]
    },
    {
     "name": "stdout",
     "output_type": "stream",
     "text": [
      "7687\n"
     ]
    }
   ],
   "source": [
    "# Q9. Reverse of a number\n",
    "num = int(input(\"Enter number: \"))\n",
    "rev = 0\n",
    "while num > 0:\n",
    "    rev = rev * 10 + num % 10\n",
    "    num = num // 10\n",
    "print(rev)\n"
   ]
  },
  {
   "cell_type": "code",
   "execution_count": 66,
   "id": "6e6c4771-6dd1-42a4-ace1-1ab2411bcfc0",
   "metadata": {},
   "outputs": [
    {
     "name": "stdout",
     "output_type": "stream",
     "text": [
      "{'b': 1, 'a': 3, 'n': 2}\n"
     ]
    }
   ],
   "source": [
    "# Q10. Frequency of each character\n",
    "s = \"banana\"\n",
    "freq = {}\n",
    "for ch in s:\n",
    "    if ch in freq:\n",
    "        freq[ch] += 1\n",
    "    else:\n",
    "        freq[ch] = 1\n",
    "print(freq)\n"
   ]
  },
  {
   "cell_type": "code",
   "execution_count": 67,
   "id": "cdd37ee0-64a4-4796-b331-1f47fef69c42",
   "metadata": {},
   "outputs": [
    {
     "name": "stdout",
     "output_type": "stream",
     "text": [
      "2 3 5 7 11 13 17 19 23 29 \n"
     ]
    }
   ],
   "source": [
    "# Q11. First n primes\n",
    "n = 10\n",
    "count = 0\n",
    "num = 2\n",
    "while count < n:\n",
    "    for i in range(2, int(num ** 0.5) + 1):\n",
    "        if num % i == 0:\n",
    "            break\n",
    "    else:\n",
    "        print(num, end=' ')\n",
    "        count += 1\n",
    "    num += 1\n",
    "print()"
   ]
  },
  {
   "cell_type": "code",
   "execution_count": 68,
   "id": "6662ddd2-8a72-4ca2-8395-889197a6bab3",
   "metadata": {},
   "outputs": [
    {
     "name": "stdin",
     "output_type": "stream",
     "text": [
      "Enter number:  768\n"
     ]
    },
    {
     "name": "stdout",
     "output_type": "stream",
     "text": [
      "Not Palindrome\n"
     ]
    }
   ],
   "source": [
    "# Q12. Palindrome check\n",
    "num = int(input(\"Enter number: \"))\n",
    "temp = num\n",
    "rev = 0\n",
    "while num > 0:\n",
    "    rev = rev * 10 + num % 10\n",
    "    num = num // 10\n",
    "if temp == rev:\n",
    "    print(\"Palindrome\")\n",
    "else:\n",
    "    print(\"Not Palindrome\")"
   ]
  },
  {
   "cell_type": "code",
   "execution_count": 69,
   "id": "ec6145bb-a55b-417a-87ff-5b40c7873c2b",
   "metadata": {},
   "outputs": [
    {
     "name": "stdout",
     "output_type": "stream",
     "text": [
      "3\n"
     ]
    }
   ],
   "source": [
    "# Q13. Count specific element in list\n",
    "lst = [1, 2, 3, 2, 4, 2, 5]\n",
    "element = 2\n",
    "count = 0\n",
    "for num in lst:\n",
    "    if num == element:\n",
    "        count += 1\n",
    "print(count)\n"
   ]
  },
  {
   "cell_type": "code",
   "execution_count": 70,
   "id": "d6c64d37-dcf1-42a0-9a62-26eed113d106",
   "metadata": {},
   "outputs": [
    {
     "name": "stdout",
     "output_type": "stream",
     "text": [
      "[4, 16, 36, 64, 100, 144, 196, 256, 324, 400, 484, 576, 676, 784, 900, 1024, 1156, 1296, 1444, 1600, 1764, 1936, 2116, 2304, 2500]\n"
     ]
    }
   ],
   "source": [
    "# Q14. Squares of even numbers 1-50\n",
    "lst = []\n",
    "for i in range(1, 51):\n",
    "    if i % 2 == 0:\n",
    "        lst.append(i ** 2)\n",
    "print(lst)\n"
   ]
  },
  {
   "cell_type": "code",
   "execution_count": 71,
   "id": "03455f19-bed5-4f90-b904-e267036b7027",
   "metadata": {},
   "outputs": [
    {
     "name": "stdout",
     "output_type": "stream",
     "text": [
      "[1, 2, 3, 4, 5]\n"
     ]
    }
   ],
   "source": [
    "# Q15. Unique elements preserving order\n",
    "lst = [1, 2, 2, 3, 4, 4, 5]\n",
    "unique = []\n",
    "for num in lst:\n",
    "    if num not in unique:\n",
    "        unique.append(num)\n",
    "print(unique)"
   ]
  },
  {
   "cell_type": "code",
   "execution_count": 72,
   "id": "3f033844-a7bf-4b64-9418-82af154dc675",
   "metadata": {},
   "outputs": [
    {
     "name": "stdout",
     "output_type": "stream",
     "text": [
      "Odd\n"
     ]
    }
   ],
   "source": [
    "# Section B: Functions\n",
    "\n",
    "# Q16. Function to check even or odd\n",
    "def check_even_odd(num):\n",
    "    if num % 2 == 0:\n",
    "        print(\"Even\")\n",
    "    else:\n",
    "        print(\"Odd\")\n",
    "check_even_odd(5)"
   ]
  },
  {
   "cell_type": "code",
   "execution_count": 73,
   "id": "adef0b33-01b9-4746-b70a-341336c500b2",
   "metadata": {},
   "outputs": [
    {
     "name": "stdout",
     "output_type": "stream",
     "text": [
      "[1, 3, 6, 10, 15]\n"
     ]
    }
   ],
   "source": [
    "# Q17. Cumulative sum of list\n",
    "def cumulative_sum(lst):\n",
    "    result = []\n",
    "    total = 0\n",
    "    for num in lst:\n",
    "        total += num\n",
    "        result.append(total)\n",
    "    return result\n",
    "print(cumulative_sum([1, 2, 3, 4, 5]))\n"
   ]
  },
  {
   "cell_type": "code",
   "execution_count": 74,
   "id": "0fb7b28e-d5c6-4816-90ee-dea07b20bebe",
   "metadata": {},
   "outputs": [
    {
     "name": "stdout",
     "output_type": "stream",
     "text": [
      "120\n"
     ]
    }
   ],
   "source": [
    "# Q18. Recursive factorial\n",
    "def factorial(n):\n",
    "    if n == 0 or n == 1:\n",
    "        return 1\n",
    "    else:\n",
    "        return n * factorial(n - 1)\n",
    "print(factorial(5))\n"
   ]
  },
  {
   "cell_type": "code",
   "execution_count": 75,
   "id": "6c648ab9-7944-4149-b68f-e5af20a9cb69",
   "metadata": {},
   "outputs": [
    {
     "name": "stdout",
     "output_type": "stream",
     "text": [
      "0 1 1 2 3 5 8 13 21 34 "
     ]
    }
   ],
   "source": [
    "# Q19. Fibonacci up to n terms\n",
    "def fibonacci(n):\n",
    "    a, b = 0, 1\n",
    "    for _ in range(n):\n",
    "        print(a, end=' ')\n",
    "        a, b = b, a + b\n",
    "fibonacci(10)\n"
   ]
  },
  {
   "cell_type": "code",
   "execution_count": 76,
   "id": "e6d28a8b-9461-42f1-88dc-28119b6770f9",
   "metadata": {},
   "outputs": [
    {
     "name": "stdout",
     "output_type": "stream",
     "text": [
      "True\n"
     ]
    }
   ],
   "source": [
    "# Q20. Check palindrome string\n",
    "def is_palindrome(s):\n",
    "    return s == s[::-1]\n",
    "print(is_palindrome(\"madam\"))\n"
   ]
  },
  {
   "cell_type": "code",
   "execution_count": 77,
   "id": "b52f75a3-5bc1-40b7-9a38-36029fbb2258",
   "metadata": {},
   "outputs": [
    {
     "name": "stdout",
     "output_type": "stream",
     "text": [
      "(40, 10)\n"
     ]
    }
   ],
   "source": [
    "# Q21. Max and min from list\n",
    "def max_min(lst):\n",
    "    return max(lst), min(lst)\n",
    "print(max_min([10, 20, 30, 40]))"
   ]
  },
  {
   "cell_type": "code",
   "execution_count": 78,
   "id": "307b570a-4b79-41e3-ba49-83a6cb1151e0",
   "metadata": {},
   "outputs": [
    {
     "name": "stdout",
     "output_type": "stream",
     "text": [
      "True\n"
     ]
    }
   ],
   "source": [
    "# Q22. Check pangram\n",
    "def is_pangram(s):\n",
    "    alphabets = 'abcdefghijklmnopqrstuvwxyz'\n",
    "    for ch in alphabets:\n",
    "        if ch not in s.lower():\n",
    "            return False\n",
    "    return True\n",
    "print(is_pangram(\"The quick brown fox jumps over the lazy dog\"))\n"
   ]
  },
  {
   "cell_type": "code",
   "execution_count": 79,
   "id": "08159975-c63e-4eda-9039-68344fe63416",
   "metadata": {},
   "outputs": [
    {
     "name": "stdout",
     "output_type": "stream",
     "text": [
      "11 13 17 19 23 29 31 37 41 43 47 "
     ]
    }
   ],
   "source": [
    "# Q23. Primes in range\n",
    "def primes_in_range(start, end):\n",
    "    for num in range(start, end + 1):\n",
    "        for i in range(2, int(num ** 0.5) + 1):\n",
    "            if num % i == 0:\n",
    "                break\n",
    "        else:\n",
    "            if num > 1:\n",
    "                print(num, end=' ')\n",
    "primes_in_range(10, 50)"
   ]
  },
  {
   "cell_type": "code",
   "execution_count": 80,
   "id": "c1e9777d-18aa-401b-aeae-e2221d132199",
   "metadata": {},
   "outputs": [
    {
     "name": "stdout",
     "output_type": "stream",
     "text": [
      "(2, 8)\n"
     ]
    }
   ],
   "source": [
    "# Q24. Count uppercase and lowercase\n",
    "def count_case(s):\n",
    "    upper = lower = 0\n",
    "    for ch in s:\n",
    "        if ch.isupper():\n",
    "            upper += 1\n",
    "        elif ch.islower():\n",
    "            lower += 1\n",
    "    return upper, lower\n",
    "print(count_case(\"Hello World\"))"
   ]
  },
  {
   "cell_type": "code",
   "execution_count": 81,
   "id": "bffaa6c3-cb8e-4687-88de-21eddc681ef9",
   "metadata": {},
   "outputs": [
    {
     "name": "stdout",
     "output_type": "stream",
     "text": [
      "10\n"
     ]
    }
   ],
   "source": [
    "# Q25. Sum of digits\n",
    "def sum_of_digits(num):\n",
    "    total = 0\n",
    "    while num > 0:\n",
    "        total += num % 10\n",
    "        num = num // 10\n",
    "    return total\n",
    "print(sum_of_digits(1234))"
   ]
  },
  {
   "cell_type": "code",
   "execution_count": 82,
   "id": "4e9ebba2-0a16-4838-85b4-ac3fa4721bfd",
   "metadata": {},
   "outputs": [
    {
     "name": "stdout",
     "output_type": "stream",
     "text": [
      "5\n"
     ]
    }
   ],
   "source": [
    "# Q26. Count words in sentence\n",
    "def count_words(sentence):\n",
    "    return len(sentence.split())\n",
    "print(count_words(\"Hello world this is python\"))"
   ]
  },
  {
   "cell_type": "code",
   "execution_count": 83,
   "id": "30e9012f-b700-42b1-a747-fe8e707a6cba",
   "metadata": {},
   "outputs": [
    {
     "name": "stdout",
     "output_type": "stream",
     "text": [
      "Hello How are you\n"
     ]
    }
   ],
   "source": [
    "# Q27. Remove punctuation (fixed)\n",
    "def remove_punctuation(s):\n",
    "    punct = \"!()-[]{};:'\\\"\\\\,<>./?@#$%^&*_~\"\n",
    "    result = ''\n",
    "    for ch in s:\n",
    "        if ch not in punct:\n",
    "            result += ch\n",
    "    return result\n",
    "\n",
    "print(remove_punctuation(\"Hello!!! How are you??\"))\n"
   ]
  },
  {
   "cell_type": "code",
   "execution_count": 84,
   "id": "a265c4c7-75a4-4a12-ab33-71ea677aad3e",
   "metadata": {},
   "outputs": [
    {
     "name": "stdout",
     "output_type": "stream",
     "text": [
      "12\n"
     ]
    }
   ],
   "source": [
    "# Q28. GCD of two numbers\n",
    "def gcd(a, b):\n",
    "    while b:\n",
    "        a, b = b, a % b\n",
    "    return a\n",
    "print(gcd(36, 60))\n"
   ]
  },
  {
   "cell_type": "code",
   "execution_count": 85,
   "id": "5aa475e1-7160-4fa1-aa00-eee38d49f2ab",
   "metadata": {},
   "outputs": [
    {
     "name": "stdout",
     "output_type": "stream",
     "text": [
      "[2, 4]\n"
     ]
    }
   ],
   "source": [
    "# Q29. Elements appearing more than once\n",
    "def duplicates(lst):\n",
    "    result = []\n",
    "    for num in lst:\n",
    "        if lst.count(num) > 1 and num not in result:\n",
    "            result.append(num)\n",
    "    return result\n",
    "print(duplicates([1, 2, 2, 3, 4, 4, 5]))"
   ]
  },
  {
   "cell_type": "code",
   "execution_count": 86,
   "id": "522700f0-9188-4ea6-9c94-742f6b262644",
   "metadata": {},
   "outputs": [
    {
     "name": "stdout",
     "output_type": "stream",
     "text": [
      "25\n"
     ]
    }
   ],
   "source": [
    "# Q30. Largest of three numbers\n",
    "def largest(a, b, c):\n",
    "    return max(a, b, c)\n",
    "print(largest(10, 25, 15))"
   ]
  },
  {
   "cell_type": "code",
   "execution_count": 87,
   "id": "9119887d-3796-499c-bb17-4f6fc8624aa9",
   "metadata": {},
   "outputs": [
    {
     "name": "stdout",
     "output_type": "stream",
     "text": [
      "a is language powerful python\n"
     ]
    }
   ],
   "source": [
    "# Section C: String, List, Dict & Tuple Operations\n",
    "\n",
    "# Q31. Sort words in sentence\n",
    "sentence = \"python is a powerful language\"\n",
    "words = sentence.split()\n",
    "words.sort()\n",
    "print(' '.join(words))"
   ]
  },
  {
   "cell_type": "code",
   "execution_count": 88,
   "id": "774d2f69-ec0e-4cf6-b0f0-ad8f0bff9f28",
   "metadata": {},
   "outputs": [
    {
     "name": "stdout",
     "output_type": "stream",
     "text": [
      "{'a': 1, 'b': 2, 'c': 3, 'd': 4}\n"
     ]
    }
   ],
   "source": [
    "# Q32. Concatenate two dictionaries\n",
    "d1 = {'a': 1, 'b': 2}\n",
    "d2 = {'c': 3, 'd': 4}\n",
    "d1.update(d2)\n",
    "print(d1)\n"
   ]
  },
  {
   "cell_type": "code",
   "execution_count": 89,
   "id": "ba490175-555a-4548-a20e-41acfd459498",
   "metadata": {},
   "outputs": [
    {
     "name": "stdout",
     "output_type": "stream",
     "text": [
      "hello : 2\n",
      "world : 1\n",
      "amazing : 3\n",
      "day : 1\n"
     ]
    }
   ],
   "source": [
    "# Q33. Vowel count per word\n",
    "sentence = \"hello world amazing day\"\n",
    "words = sentence.split()\n",
    "for word in words:\n",
    "    count = 0\n",
    "    for ch in word:\n",
    "        if ch.lower() in 'aeiou':\n",
    "            count += 1\n",
    "    print(word, \":\", count)\n"
   ]
  },
  {
   "cell_type": "code",
   "execution_count": 90,
   "id": "a7462fd5-d136-4524-b33e-fc911ea367f1",
   "metadata": {},
   "outputs": [
    {
     "name": "stdout",
     "output_type": "stream",
     "text": [
      "[1, 2, 3, 4, 5]\n"
     ]
    }
   ],
   "source": [
    "# Q34. Tuple to list\n",
    "tup = (1, 2, 3, 4, 5)\n",
    "lst = list(tup)\n",
    "print(lst)"
   ]
  },
  {
   "cell_type": "code",
   "execution_count": 91,
   "id": "2ee7609d-5665-4ddb-be44-7f2ddc894ede",
   "metadata": {},
   "outputs": [
    {
     "name": "stdout",
     "output_type": "stream",
     "text": [
      "pythonisfun\n"
     ]
    }
   ],
   "source": [
    "# Q35. Remove whitespaces using function\n",
    "def remove_whitespace(s):\n",
    "    return s.replace(\" \", \"\")\n",
    "print(remove_whitespace(\"python is fun\"))"
   ]
  },
  {
   "cell_type": "code",
   "execution_count": 92,
   "id": "d5dfdd7d-b8b2-46ab-8f36-47230c6a5420",
   "metadata": {},
   "outputs": [
    {
     "name": "stdout",
     "output_type": "stream",
     "text": [
      "{'name': 'Alice', 'age': 25, 'city': 'New York'}\n"
     ]
    }
   ],
   "source": [
    "# Q36. Merge two lists as dictionary\n",
    "keys = ['name', 'age', 'city']\n",
    "values = ['Alice', 25, 'New York']\n",
    "d = dict(zip(keys, values))\n",
    "print(d)"
   ]
  },
  {
   "cell_type": "code",
   "execution_count": 93,
   "id": "7a5e9bb1-b9fe-41a2-bf3a-0b97841af237",
   "metadata": {},
   "outputs": [
    {
     "name": "stdout",
     "output_type": "stream",
     "text": [
      "b\n"
     ]
    }
   ],
   "source": [
    "# Q37. Key with max value in dictionary\n",
    "d = {'a': 10, 'b': 50, 'c': 30}\n",
    "max_key = max(d, key=d.get)\n",
    "print(max_key)"
   ]
  },
  {
   "cell_type": "code",
   "execution_count": 94,
   "id": "90ba881f-1f26-4de6-a30d-38299b6150e2",
   "metadata": {},
   "outputs": [
    {
     "name": "stdout",
     "output_type": "stream",
     "text": [
      "{'this': 2, 'is': 2, 'a': 2, 'test': 2, 'only': 1}\n"
     ]
    }
   ],
   "source": [
    "# Q38. Word frequency in string\n",
    "sentence = \"this is a test this is only a test\"\n",
    "words = sentence.split()\n",
    "freq = {}\n",
    "for word in words:\n",
    "    if word in freq:\n",
    "        freq[word] += 1\n",
    "    else:\n",
    "        freq[word] = 1\n",
    "print(freq)"
   ]
  },
  {
   "cell_type": "code",
   "execution_count": 95,
   "id": "76ed046d-267c-4ab1-a594-9f77cb487f9c",
   "metadata": {},
   "outputs": [
    {
     "name": "stdout",
     "output_type": "stream",
     "text": [
      "Exists\n"
     ]
    }
   ],
   "source": [
    "# Q39. Check if key exists\n",
    "d = {'name': 'Alice', 'age': 25}\n",
    "key = 'age'\n",
    "if key in d:\n",
    "    print(\"Exists\")\n",
    "else:\n",
    "    print(\"Does not exist\")\n"
   ]
  },
  {
   "cell_type": "code",
   "execution_count": 96,
   "id": "8b7c01dd-dd4a-4298-9dfe-f4fd5271a44c",
   "metadata": {},
   "outputs": [
    {
     "name": "stdout",
     "output_type": "stream",
     "text": [
      "h*ll* w*rld\n"
     ]
    }
   ],
   "source": [
    "# Q40. Replace vowels with '*'\n",
    "s = \"hello world\"\n",
    "result = ''\n",
    "for ch in s:\n",
    "    if ch.lower() in 'aeiou':\n",
    "        result += '*'\n",
    "    else:\n",
    "        result += ch\n",
    "print(result)\n"
   ]
  },
  {
   "cell_type": "code",
   "execution_count": 97,
   "id": "f29e70ac-35ca-488c-aa67-8134b706ca33",
   "metadata": {},
   "outputs": [
    {
     "name": "stdout",
     "output_type": "stream",
     "text": [
      "This is a sample text file.\n",
      "It contains multiple lines.\n",
      "You can add more content as needed.\n"
     ]
    }
   ],
   "source": [
    "# Section D: File Handling\n",
    "\n",
    "# Q41. Read contents of file\n",
    "try:\n",
    "    # First, create the file if it doesn't exist\n",
    "    with open('sample.txt', 'w') as f:\n",
    "        f.write(\"This is a sample text file.\\nIt contains multiple lines.\\nYou can add more content as needed.\")\n",
    "    \n",
    "    # Now read the file\n",
    "    with open('sample.txt', 'r') as f:\n",
    "        content = f.read()\n",
    "        print(content)\n",
    "except Exception as e:\n",
    "    print(f\"An error occurred: {e}\")"
   ]
  },
  {
   "cell_type": "code",
   "execution_count": 98,
   "id": "da6aed24-1adf-46d5-9db0-ab270548c11e",
   "metadata": {},
   "outputs": [
    {
     "name": "stdout",
     "output_type": "stream",
     "text": [
      "17\n"
     ]
    }
   ],
   "source": [
    "# Q42. Count words in file\n",
    "with open('sample.txt', 'r') as f:\n",
    "    content = f.read()\n",
    "    words = content.split()\n",
    "    print(len(words))"
   ]
  },
  {
   "cell_type": "code",
   "execution_count": 99,
   "id": "54cfdbef-73b0-4655-9778-4903d32c02f1",
   "metadata": {},
   "outputs": [],
   "source": [
    "# Q43. Copy contents of one file to another\n",
    "with open('sample.txt', 'r') as f1, open('copy.txt', 'w') as f2:\n",
    "    content = f1.read()\n",
    "    f2.write(content)\n"
   ]
  },
  {
   "cell_type": "code",
   "execution_count": 100,
   "id": "2d25817e-c803-40ad-ab11-a64d1543e46b",
   "metadata": {},
   "outputs": [],
   "source": [
    "# Q44. Print lines > 50 chars\n",
    "with open('sample.txt', 'r') as f:\n",
    "    for line in f:\n",
    "        if len(line.strip()) > 50:\n",
    "            print(line.strip())"
   ]
  },
  {
   "cell_type": "code",
   "execution_count": 101,
   "id": "ab35f1dd-bc9a-473b-b9f2-066856a5f02f",
   "metadata": {},
   "outputs": [],
   "source": [
    "# Q45. Write list of strings to file\n",
    "lines = ['Hello World', 'Python is fun', 'File handling in Python']\n",
    "with open('output.txt', 'w') as f:\n",
    "    for line in lines:\n",
    "        f.write(line + '\\n')"
   ]
  },
  {
   "cell_type": "code",
   "execution_count": 102,
   "id": "a7fadae2-9825-4ca0-bdfc-9efd5a203519",
   "metadata": {},
   "outputs": [
    {
     "name": "stdin",
     "output_type": "stream",
     "text": [
      "Enter numerator:  89798\n",
      "Enter denominator:  8679\n"
     ]
    },
    {
     "name": "stdout",
     "output_type": "stream",
     "text": [
      "10.346583707800438\n"
     ]
    }
   ],
   "source": [
    "# Section E: Exception Handling\n",
    "\n",
    "# Q46. Division by zero handling\n",
    "try:\n",
    "    a = int(input(\"Enter numerator: \"))\n",
    "    b = int(input(\"Enter denominator: \"))\n",
    "    result = a / b\n",
    "    print(result)\n",
    "except ZeroDivisionError:\n",
    "    print(\"Cannot divide by zero!\")"
   ]
  },
  {
   "cell_type": "code",
   "execution_count": 103,
   "id": "901825ad-087f-493c-b541-99d7c6ff1e66",
   "metadata": {},
   "outputs": [
    {
     "name": "stdin",
     "output_type": "stream",
     "text": [
      "Enter a number:  8789\n"
     ]
    },
    {
     "name": "stdout",
     "output_type": "stream",
     "text": [
      "You entered: 8789\n"
     ]
    }
   ],
   "source": [
    "# Q47. Handle invalid user input\n",
    "try:\n",
    "    num = int(input(\"Enter a number: \"))\n",
    "    print(\"You entered:\", num)\n",
    "except ValueError:\n",
    "    print(\"Invalid input, please enter a number.\")\n"
   ]
  },
  {
   "cell_type": "code",
   "execution_count": 104,
   "id": "316da838-b15b-413d-bc80-62c4229484f3",
   "metadata": {},
   "outputs": [
    {
     "name": "stdout",
     "output_type": "stream",
     "text": [
      "File not found!\n"
     ]
    }
   ],
   "source": [
    "# Q48. Handle file not found\n",
    "try:\n",
    "    with open('nonexistent.txt', 'r') as f:\n",
    "        content = f.read()\n",
    "        print(content)\n",
    "except FileNotFoundError:\n",
    "    print(\"File not found!\")\n"
   ]
  },
  {
   "cell_type": "code",
   "execution_count": 105,
   "id": "4f13c2a0-98db-464c-a97c-b038f282cf4e",
   "metadata": {},
   "outputs": [
    {
     "name": "stdout",
     "output_type": "stream",
     "text": [
      "Index out of range!\n"
     ]
    }
   ],
   "source": [
    "# Q49. Handle invalid list index\n",
    "lst = [1, 2, 3, 4, 5]\n",
    "try:\n",
    "    print(lst[10])\n",
    "except IndexError:\n",
    "    print(\"Index out of range!\")\n"
   ]
  },
  {
   "cell_type": "code",
   "execution_count": 106,
   "id": "e98b173f-2f4e-45c2-aef8-4854a33a3116",
   "metadata": {},
   "outputs": [
    {
     "name": "stdin",
     "output_type": "stream",
     "text": [
      "Enter a number:  788\n"
     ]
    },
    {
     "name": "stdout",
     "output_type": "stream",
     "text": [
      "0.12690355329949238\n",
      "This block always runs.\n"
     ]
    }
   ],
   "source": [
    "# Q50. Try-except-finally demo\n",
    "try:\n",
    "    num = int(input(\"Enter a number: \"))\n",
    "    print(100 / num)\n",
    "except Exception as e:\n",
    "    print(\"Error:\", e)\n",
    "finally:\n",
    "    print(\"This block always runs.\")\n"
   ]
  },
  {
   "cell_type": "code",
   "execution_count": null,
   "id": "54323a98-63f2-4023-8285-0e7e66beeb7e",
   "metadata": {},
   "outputs": [],
   "source": []
  },
  {
   "cell_type": "code",
   "execution_count": null,
   "id": "42a26bcd-baf6-4a42-9ca3-a4fe8ddb6d0e",
   "metadata": {},
   "outputs": [],
   "source": []
  }
 ],
 "metadata": {
  "kernelspec": {
   "display_name": "Python [conda env:ANACONDA]",
   "language": "python",
   "name": "conda-env-ANACONDA-py"
  },
  "language_info": {
   "codemirror_mode": {
    "name": "ipython",
    "version": 3
   },
   "file_extension": ".py",
   "mimetype": "text/x-python",
   "name": "python",
   "nbconvert_exporter": "python",
   "pygments_lexer": "ipython3",
   "version": "3.12.7"
  }
 },
 "nbformat": 4,
 "nbformat_minor": 5
}
